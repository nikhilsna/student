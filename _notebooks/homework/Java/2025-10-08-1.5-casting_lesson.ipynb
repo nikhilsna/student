{
 "cells": [
  {
   "cell_type": "markdown",
   "id": "786ad927",
   "metadata": {},
   "source": [
    "---\n",
    "layout: post\n",
    "title: \"Unit 1.5 - Casting and Range of Variables\"\n",
    "description: \"Java lesson covering type casting, integer division, modulus operations, and variable range/overflow behavior\"\n",
    "type: lesson\n",
    "author: Nikhil\n",
    "courses: { csa: {week: 5} }\n",
    "categories: [homework]\n",
    "tags: [java, casting, variables, range, overflow, modulus, integer-division, data-types]\n",
    "permalink: /csa/unit_01/1_5\n",
    "search_exclude: false\n",
    "excerpt: \"Java lesson on type casting, integer division, and variable ranges\"\n",
    "---"
   ]
  },
  {
   "cell_type": "markdown",
   "id": "8afbf505",
   "metadata": {},
   "source": [
    "\n",
    "# Homework 1.5: casting and range of Variables\n",
    "\n",
    "---\n",
    "\n",
    "## Table of Contents\n",
    "\n",
    "### Practice Problems\n",
    "- [Q1: Basic Casting and Division](#q1-basic-casting-and-division)\n",
    "- [Q2: Negative Number Casting](#q2-negative-number-casting) \n",
    "- [Q3: Integer Overflow](#q3-integer-overflow)\n",
    "\n",
    "### FRQ Problems\n",
    "- [FRQ 1: Average with Correct Casting](#frq-1-average-with-correct-casting)\n",
    "- [FRQ 2: Percentage Calculator](#frq-2-percentage-calculator)\n",
    "- [FRQ 3: Safe Remainder](#frq-3-safe-remainder)\n",
    "\n",
    "---"
   ]
  },
  {
   "cell_type": "code",
   "execution_count": null,
   "id": "319b5250",
   "metadata": {
    "vscode": {
     "languageId": "java"
    }
   },
   "outputs": [],
   "source": [
    "//Q1\n",
    "int a = 5, b = 2;\n",
    "System.out.println(a / b);\n",
    "System.out.println((double)a / b);\n",
    "System.out.println((int)3.9);\n",
    "System.out.println((int)(3.9 + 0.5));"
   ]
  },
  {
   "cell_type": "code",
   "execution_count": null,
   "id": "56329ca4",
   "metadata": {
    "vscode": {
     "languageId": "java"
    }
   },
   "outputs": [],
   "source": [
    "\n",
    "2\n",
    "2\n",
    "2.0\n",
    "2.5"
   ]
  },
  {
   "cell_type": "code",
   "execution_count": null,
   "id": "8600521e",
   "metadata": {
    "vscode": {
     "languageId": "java"
    }
   },
   "outputs": [],
   "source": [
    "//Q2\n",
    "double d = -2.6;\n",
    "System.out.println((int)d);\n",
    "System.out.println((int)(d - 0.5));\n",
    "System.out.println((int)(-d + 0.5));"
   ]
  },
  {
   "cell_type": "code",
   "execution_count": null,
   "id": "24701632",
   "metadata": {
    "vscode": {
     "languageId": "java"
    }
   },
   "outputs": [],
   "source": [
    "-2\n",
    "-3\n",
    "3"
   ]
  },
  {
   "cell_type": "code",
   "execution_count": null,
   "id": "4c968414",
   "metadata": {
    "vscode": {
     "languageId": "java"
    }
   },
   "outputs": [],
   "source": [
    "//Q3\n",
    "int x = Integer.MAX_VALUE;\n",
    "int y = x + 2;\n",
    "System.out.println(x);\n",
    "System.out.println(y);"
   ]
  },
  {
   "cell_type": "code",
   "execution_count": null,
   "id": "7dda2aa9",
   "metadata": {
    "vscode": {
     "languageId": "java"
    }
   },
   "outputs": [],
   "source": [
    "2147483647\n",
    "-2147483647"
   ]
  },
  {
   "cell_type": "markdown",
   "id": "1a39fe7e",
   "metadata": {},
   "source": [
    "FRQ 1: Average with correct casting\n",
    "Problem: Write a method avgInt that takes two int values and returns their average as a double, preserving the .5 if present."
   ]
  },
  {
   "cell_type": "code",
   "execution_count": null,
   "id": "a075474f",
   "metadata": {
    "vscode": {
     "languageId": "java"
    }
   },
   "outputs": [],
   "source": [
    "public static double avgInt(int a, int b) {\n",
    "    return ((double)a + b) / 2.0;\n",
    "}"
   ]
  },
  {
   "cell_type": "markdown",
   "id": "61e1aadd",
   "metadata": {
    "vscode": {
     "languageId": "java"
    }
   },
   "source": [
    "FRQ 2: Percentage\n",
    "Problem: Given int correct and int total, compute the percentage as a double from 0.0 to 100.0 without losing fractional precision."
   ]
  },
  {
   "cell_type": "code",
   "execution_count": null,
   "id": "5da6d74f",
   "metadata": {
    "vscode": {
     "languageId": "java"
    }
   },
   "outputs": [],
   "source": [
    "public static double percent(int correct, int total) {\n",
    "    if (total == 0) return 0.0;\n",
    "    return 100.0 * ((double) correct) / total;\n",
    "}"
   ]
  },
  {
   "cell_type": "markdown",
   "id": "526da97f",
   "metadata": {},
   "source": [
    "FRQ 3: Safe remainder\n",
    "Problem: Implement safeMod(int a, int b) that returns a % b, but if b == 0, it should return 0 instead of throwing."
   ]
  },
  {
   "cell_type": "code",
   "execution_count": null,
   "id": "7a731740",
   "metadata": {
    "vscode": {
     "languageId": "java"
    }
   },
   "outputs": [],
   "source": [
    "public static int safeMod(int a, int b) {\n",
    "    if (b == 0) return 0;\n",
    "    return a % b;\n",
    "}"
   ]
  }
 ],
 "metadata": {
  "language_info": {
   "name": "python"
  }
 },
 "nbformat": 4,
 "nbformat_minor": 5
}
