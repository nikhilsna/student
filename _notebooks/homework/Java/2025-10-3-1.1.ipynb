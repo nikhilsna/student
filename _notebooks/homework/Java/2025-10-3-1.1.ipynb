{
 "cells": [
  {
   "cell_type": "markdown",
   "id": "a9efebbd",
   "metadata": {
    "vscode": {
     "languageId": "raw"
    }
   },
   "source": [
    "---\n",
    "layout: post\n",
    "title: \"Java Homework 1.1 - Introduction to Algorithms, Programming, and Compilers\"\n",
    "description: \"Java homework assignment covering fundamental concepts\"\n",
    "type: homework\n",
    "courses: { csp: {week: 1} }\n",
    "categories: [homework]\n",
    "tags: [java, programming, homework, basics, algorithms]\n",
    "permalink: /homework/java/1-1-basics\n",
    "search_exclude: false\n",
    "---"
   ]
  },
  {
   "cell_type": "markdown",
   "id": "731816a9",
   "metadata": {},
   "source": [
    "# Homework Hacks: Algorithms & Debugging\n",
    "\n",
    "---\n",
    "\n",
    "## Hack 1: Create Your Own Algorithm\n",
    "\n",
    "**Activity chosen:** Making a pizza from scratch\n",
    "\n",
    "**Algorithm:**\n",
    "\n",
    "1. **Gather all ingredients and equipment** - Collect flour, yeast, salt, water, olive oil, tomato sauce, mozzarella cheese, and desired toppings. Get mixing bowls, measuring cups, rolling pin, and a baking sheet or pizza stone.\n",
    "\n",
    "2. **Prepare the pizza dough** - In a large bowl, combine 2¼ cups warm water (110°F), 1 tablespoon sugar, and 2¼ teaspoons active dry yeast. Let it sit for 5 minutes until foamy.\n",
    "\n",
    "3. **Mix and knead the dough** - Add 3 cups of flour, 2 tablespoons olive oil, and 2 teaspoons salt to the yeast mixture. Stir until combined, then knead on a floured surface for 8-10 minutes until smooth and elastic.\n",
    "\n",
    "4. **Let the dough rise** - Place the dough in a greased bowl, cover with a damp towel, and let it rise in a warm place for 1-2 hours until it doubles in size.\n",
    "\n",
    "5. **Preheat the oven and prepare toppings** - Set oven to 475°F (245°C). While waiting, shred the mozzarella cheese, slice vegetables, and prepare any meat toppings you plan to use.\n",
    "\n",
    "6. **Shape the pizza base** - Punch down the risen dough to release air bubbles. On a floured surface, stretch or roll the dough into a 12-14 inch circle, creating a slightly thicker edge for the crust.\n",
    "\n",
    "7. **Add sauce and toppings** - Transfer the dough to a greased baking sheet or pizza stone. Spread ½ to ¾ cup of tomato sauce evenly, leaving a 1-inch border. Add shredded mozzarella cheese and arrange your chosen toppings on top.\n",
    "\n",
    "8. **Bake the pizza** - Place the pizza in the preheated oven and bake for 12-15 minutes until the crust is golden brown and the cheese is bubbly and slightly browned.\n",
    "\n",
    "9. **Cool and serve** - Remove the pizza from the oven carefully. Let it cool for 2-3 minutes, then slice into 8 pieces using a pizza cutter or sharp knife and serve immediately.\n",
    "\n",
    "---\n",
    "\n",
    "## Hack 2: Identify the Bug\n",
    "\n",
    "**Corrected Algorithm: Send an Email**\n",
    "\n",
    "1. **Open email application** - Launch your email program or navigate to your email website in a web browser.\n",
    "\n",
    "2. **Log into your account** - Enter your username/email address and password to access your email account.\n",
    "\n",
    "3. **Compose a new email** - Click on the \"Compose,\" \"New Message,\" or \"+\" button to start creating a new email.\n",
    "\n",
    "4. **Enter recipient's email address** - Type the email address of the person you want to send the message to in the \"To:\" field.\n",
    "\n",
    "5. **Write subject line** - Add a brief, descriptive subject line in the \"Subject:\" field that summarizes the purpose of your email.\n",
    "\n",
    "6. **Type the message** - Compose your email message in the main text area, including all the information you want to communicate.\n",
    "\n",
    "7. **Click \"Send\"** - Review your email for accuracy, then click the \"Send\" button to deliver the message to the recipient.\n",
    "\n",
    "**Explanation of fixes:** The original algorithm had several logic errors. You must open the application before logging in, log in before composing, and compose before adding recipients. The subject line and message should be written before sending, and clicking \"Send\" must always be the final step.\n",
    "\n",
    "---\n",
    "\n",
    "## Hack 3: Code the Algorithm\n"
   ]
  }
 ],
 "metadata": {
  "language_info": {
   "name": "python"
  }
 },
 "nbformat": 4,
 "nbformat_minor": 5
}
