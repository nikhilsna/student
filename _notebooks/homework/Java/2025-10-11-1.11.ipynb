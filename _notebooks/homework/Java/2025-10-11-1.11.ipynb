{
 "cells": [
  {
   "cell_type": "markdown",
   "id": "b522ac1b",
   "metadata": {},
   "source": [
    "---\n",
    "layout: post\n",
    "title: \"1.11 Java Math Class - Power Levels and Random Generation\"\n",
    "description: \"Java homework assignment covering Math.pow(), Math.random(), and conditional logic with gaming examples\"\n",
    "author: Nikhil\n",
    "type: homework\n",
    "courses: { csa: {week: 11} }\n",
    "categories: [homework]\n",
    "tags: [java, programming, homework, math-class, random, power-calculations, gaming, conditionals]\n",
    "permalink: /csa/unit_01/1_11\n",
    "search_exclude: false\n",
    "---"
   ]
  },
  {
   "cell_type": "markdown",
   "id": "d30dd3f9",
   "metadata": {
    "vscode": {
     "languageId": "java"
    }
   },
   "source": [
    "### Popcorn hack 1 "
   ]
  },
  {
   "cell_type": "code",
   "execution_count": null,
   "id": "31277fa0",
   "metadata": {
    "vscode": {
     "languageId": "java"
    }
   },
   "outputs": [],
   "source": [
    "\n",
    "class PowerLevelCalculator {\n",
    "    public static void main(String[] args) {\n",
    "\n",
    "        int basePower = 100;\n",
    "        int level = 10;\n",
    "        \n",
    "\n",
    "        double finalPower = basePower * Math.pow(1.2, level);\n",
    "\n",
    "\n",
    "        System.out.println(\"--- Power Level Calculator ---\");\n",
    "        System.out.println(\"Level: \" + level);\n",
    "        System.out.println(\"Base Power: \" + basePower);\n",
    "        System.out.println(\"Final Power: \" + finalPower);\n",
    "    }\n",
    "}\n"
   ]
  },
  {
   "cell_type": "markdown",
   "id": "bb171103",
   "metadata": {
    "vscode": {
     "languageId": "java"
    }
   },
   "source": [
    "=== Power Level Calculator ===\n",
    "Level: 10\n",
    "Base Power: 100\n",
    "Final Power: 619.1736422041505"
   ]
  },
  {
   "cell_type": "markdown",
   "id": "cecaf2ac",
   "metadata": {},
   "source": [
    "### Popcorn hack 2"
   ]
  },
  {
   "cell_type": "code",
   "execution_count": null,
   "id": "7fa0ff8f",
   "metadata": {
    "vscode": {
     "languageId": "java"
    }
   },
   "outputs": [],
   "source": [
    "class LootDropSimulator {\n",
    "    public static void main(String[] args) {\n",
    "        // Generate random rarity (1-100)\n",
    "        int rarityRoll = (int)(Math.random() * 100) + 1;\n",
    "        \n",
    "\n",
    "        String rarity;\n",
    "        int goldValue;\n",
    "        \n",
    "\n",
    "        if (rarityRoll >= 1 && rarityRoll <= 60) {\n",
    "            // Common item (10-30 gold)\n",
    "            rarity = \"COMMON\";\n",
    "            goldValue = (int)(Math.random() * (30 - 10 + 1)) + 10;\n",
    "        } \n",
    "        else if (rarityRoll >= 61 && rarityRoll <= 85) {\n",
    "\n",
    "            rarity = \"RARE\";\n",
    "            goldValue = (int)(Math.random() * (70 - 31 + 1)) + 31;\n",
    "        } \n",
    "        else {\n",
    "\n",
    "            rarity = \"LEGENDARY\";\n",
    "            goldValue = (int)(Math.random() * (100 - 71 + 1)) + 71;\n",
    "        }\n",
    "        \n",
    "\n",
    "        System.out.println(\"=== Loot Drop! ===\");\n",
    "        System.out.println(\"Rarity Roll: \" + rarityRoll);\n",
    "        System.out.println(\"You got: \" + rarity + \" item\");\n",
    "        System.out.println(\"Gold Value: \" + goldValue);\n",
    "    }\n",
    "}"
   ]
  },
  {
   "cell_type": "markdown",
   "id": "3660a12a",
   "metadata": {},
   "source": [
    "Example Output:\n",
    "=== Loot Drop! ===\n",
    "Rarity Roll: 73\n",
    "You got: RARE item\n",
    "Gold Value: 54"
   ]
  },
  {
   "cell_type": "markdown",
   "id": "88329f2d",
   "metadata": {
    "vscode": {
     "languageId": "java"
    }
   },
   "source": [
    "### Hw hacks a-d"
   ]
  },
  {
   "cell_type": "code",
   "execution_count": null,
   "id": "6c900488",
   "metadata": {
    "vscode": {
     "languageId": "java"
    }
   },
   "outputs": [],
   "source": [
    "public class GameStatsCalculator {\n",
    "    \n",
    "    // Part A: Health Difference Calculator\n",
    "    public static int healthDifference(int player1Health, int player2Health) {\n",
    "        return Math.abs(player1Health - player2Health);\n",
    "    }\n",
    "    \n",
    "    // Part B: Attack Damage Calculator\n",
    "    public static double calculateDamage(double baseDamage, double powerLevel) {\n",
    "        return baseDamage * Math.pow(1.5, powerLevel);\n",
    "    }\n",
    "    \n",
    "    // Part C: Distance Detector\n",
    "    public static double findDistance(int playerX, int playerY, int enemyX, int enemyY) {\n",
    "        double xDiff = Math.pow(enemyX - playerX, 2);\n",
    "        double yDiff = Math.pow(enemyY - playerY, 2);\n",
    "        return Math.sqrt(xDiff + yDiff);\n",
    "    }\n",
    "    \n",
    "    // Part D: Random Loot Generator\n",
    "    public static int generateLoot(int minValue, int maxValue) {\n",
    "        return (int)(Math.random() * (maxValue - minValue + 1)) + minValue;\n",
    "    }\n",
    "    \n",
    "    // Main method to test all parts\n",
    "    public static void main(String[] args) {\n",
    "        // Part A Tests\n",
    "        System.out.println(\"Part A: Health Difference\");\n",
    "        System.out.println(healthDifference(75, 120));\n",
    "        System.out.println(healthDifference(100, 80));\n",
    "        System.out.println(healthDifference(50, 50));\n",
    "        \n",
    "        // Part B Tests\n",
    "        System.out.println(\"\\nPart B: Attack Damage\");\n",
    "        System.out.println(calculateDamage(10.0, 2));\n",
    "        System.out.println(calculateDamage(15.0, 3));\n",
    "        \n",
    "        // Part C Tests\n",
    "        System.out.println(\"\\nPart C: Distance\");\n",
    "        System.out.println(findDistance(0, 0, 3, 4));\n",
    "        System.out.println(findDistance(1, 1, 4, 5));\n",
    "        \n",
    "        // Part D Tests\n",
    "        System.out.println(\"\\nPart D: Random Loot (sample outputs)\");\n",
    "        System.out.println(generateLoot(10, 50));\n",
    "        System.out.println(generateLoot(100, 100));\n",
    "        System.out.println(generateLoot(1, 6));\n",
    "    }\n",
    "}"
   ]
  },
  {
   "cell_type": "markdown",
   "id": "1778aace",
   "metadata": {},
   "source": [
    "Part A: Health Difference\n",
    "45\n",
    "20\n",
    "0\n",
    "\n",
    "Part B: Attack Damage\n",
    "22.5\n",
    "50.625\n",
    "\n",
    "Part C: Distance\n",
    "5.0\n",
    "5.0\n",
    "\n",
    "Part D: Random Loot (sample outputs)\n",
    "[random number between 10-50]\n",
    "100\n",
    "[random number between 1-6]"
   ]
  }
 ],
 "metadata": {
  "language_info": {
   "name": "python"
  }
 },
 "nbformat": 4,
 "nbformat_minor": 5
}
