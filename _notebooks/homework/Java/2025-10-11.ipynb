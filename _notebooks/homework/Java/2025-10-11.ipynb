{
 "cells": [
  {
   "cell_type": "markdown",
   "id": "b522ac1b",
   "metadata": {},
   "source": [
    "---\n",
    "layout: post\n",
    "title: \"1.11 Java Math Class - Power Levels and Random Generation\"\n",
    "description: \"Java homework assignment covering Math.pow(), Math.random(), and conditional logic with gaming examples\"\n",
    "author: Nikhil\n",
    "type: homework\n",
    "courses: { csa: {week: 11} }\n",
    "categories: [homework]\n",
    "tags: [java, programming, homework, math-class, random, power-calculations, gaming, conditionals]\n",
    "permalink: /csa/homework/math-class\n",
    "search_exclude: false\n",
    "---"
   ]
  },
  {
   "cell_type": "markdown",
   "id": "d30dd3f9",
   "metadata": {
    "vscode": {
     "languageId": "java"
    }
   },
   "source": [
    "### Popcorn hack 1 "
   ]
  },
  {
   "cell_type": "code",
   "execution_count": null,
   "id": "31277fa0",
   "metadata": {
    "vscode": {
     "languageId": "java"
    }
   },
   "outputs": [],
   "source": [
    "\n",
    "class PowerLevelCalculator {\n",
    "    public static void main(String[] args) {\n",
    "\n",
    "        int basePower = 100;\n",
    "        int level = 10;\n",
    "        \n",
    "\n",
    "        double finalPower = basePower * Math.pow(1.2, level);\n",
    "\n",
    "\n",
    "        System.out.println(\"--- Power Level Calculator ---\");\n",
    "        System.out.println(\"Level: \" + level);\n",
    "        System.out.println(\"Base Power: \" + basePower);\n",
    "        System.out.println(\"Final Power: \" + finalPower);\n",
    "    }\n",
    "}\n"
   ]
  },
  {
   "cell_type": "markdown",
   "id": "bb171103",
   "metadata": {
    "vscode": {
     "languageId": "java"
    }
   },
   "source": [
    "=== Power Level Calculator ===\n",
    "Level: 10\n",
    "Base Power: 100\n",
    "Final Power: 619.1736422041505"
   ]
  },
  {
   "cell_type": "markdown",
   "id": "cecaf2ac",
   "metadata": {},
   "source": [
    "### Popcorn hack 2"
   ]
  },
  {
   "cell_type": "code",
   "execution_count": null,
   "id": "7fa0ff8f",
   "metadata": {
    "vscode": {
     "languageId": "java"
    }
   },
   "outputs": [],
   "source": [
    "class LootDropSimulator {\n",
    "    public static void main(String[] args) {\n",
    "        // Generate random rarity (1-100)\n",
    "        int rarityRoll = (int)(Math.random() * 100) + 1;\n",
    "        \n",
    "\n",
    "        String rarity;\n",
    "        int goldValue;\n",
    "        \n",
    "\n",
    "        if (rarityRoll >= 1 && rarityRoll <= 60) {\n",
    "            // Common item (10-30 gold)\n",
    "            rarity = \"COMMON\";\n",
    "            goldValue = (int)(Math.random() * (30 - 10 + 1)) + 10;\n",
    "        } \n",
    "        else if (rarityRoll >= 61 && rarityRoll <= 85) {\n",
    "\n",
    "            rarity = \"RARE\";\n",
    "            goldValue = (int)(Math.random() * (70 - 31 + 1)) + 31;\n",
    "        } \n",
    "        else {\n",
    "\n",
    "            rarity = \"LEGENDARY\";\n",
    "            goldValue = (int)(Math.random() * (100 - 71 + 1)) + 71;\n",
    "        }\n",
    "        \n",
    "\n",
    "        System.out.println(\"=== Loot Drop! ===\");\n",
    "        System.out.println(\"Rarity Roll: \" + rarityRoll);\n",
    "        System.out.println(\"You got: \" + rarity + \" item\");\n",
    "        System.out.println(\"Gold Value: \" + goldValue);\n",
    "    }\n",
    "}"
   ]
  },
  {
   "cell_type": "markdown",
   "id": "3660a12a",
   "metadata": {},
   "source": [
    "Example Output:\n",
    "=== Loot Drop! ===\n",
    "Rarity Roll: 73\n",
    "You got: RARE item\n",
    "Gold Value: 54"
   ]
  }
 ],
 "metadata": {
  "language_info": {
   "name": "python"
  }
 },
 "nbformat": 4,
 "nbformat_minor": 5
}
