{
 "cells": [
  {
   "cell_type": "markdown",
   "id": "83e3eab3",
   "metadata": {},
   "source": [
    "---\n",
    "layout: post\n",
    "title: \"Unit 1.6 - Compound Assignment Operators\"\n",
    "description: \"Java homework assignment covering compound assignment operators and their use cases\"\n",
    "type: homework\n",
    "author: Nikhil\n",
    "courses: { csa: {week: 6} }\n",
    "categories: [homework]\n",
    "tags: [java, programming, homework, compound-assignment, operators, shortcuts]\n",
    "permalink: /csa/unit_01/1_6\n",
    "search_exclude: false\n",
    "---\n"
   ]
  },
  {
   "cell_type": "markdown",
   "id": "901758f5",
   "metadata": {},
   "source": [
    "Option B: Bank Account Manager\n",
    "I wanted to create a Bank Account Manager simulation that tracks financial transactions over a month."
   ]
  },
  {
   "cell_type": "code",
   "execution_count": null,
   "id": "f911abd9",
   "metadata": {
    "vscode": {
     "languageId": "java"
    }
   },
   "outputs": [],
   "source": [
    "public class BankAccountManager {\n",
    "    public static void main(String[] args) {\n",
    "        // Initial account setup\n",
    "        int balance = 5000;\n",
    "        int transactions = 0;\n",
    "        \n",
    "        System.out.println(\"=== BANK ACCOUNT MANAGER ===\\n\");\n",
    "        System.out.println(\"Starting balance: $\" + balance + \"\\n\");\n",
    "        \n",
    "        // Salary deposit\n",
    "        balance += 3500;\n",
    "        transactions++;\n",
    "        System.out.println(\"Salary deposited: $\" + balance);\n",
    "        \n",
    "        // Rent payment\n",
    "        balance -= 1800;\n",
    "        transactions++;\n",
    "        System.out.println(\"Rent paid: $\" + balance);\n",
    "        \n",
    "        // Groceries\n",
    "        balance -= 450;\n",
    "        transactions++;\n",
    "        System.out.println(\"Groceries: $\" + balance);\n",
    "        \n",
    "        // Apply 1.5% interest (multiply by 1.015)\n",
    "        balance *= 1.015;\n",
    "        System.out.println(\"Interest applied: $\" + balance);\n",
    "        \n",
    "        // Calculate average spent per transaction\n",
    "        int totalSpent = 1800 + 450;\n",
    "        int avgSpent = totalSpent / transactions;\n",
    "        System.out.println(\"Average spent: $\" + avgSpent);\n",
    "        \n",
    "        // Check account tier eligibility\n",
    "        int tier = balance % 5;\n",
    "        System.out.println(\"Tier check: \" + tier);\n",
    "        \n",
    "        System.out.println(\"\\n=== FINAL SUMMARY ===\");\n",
    "        System.out.println(\"Transactions: \" + transactions);\n",
    "        System.out.println(\"Final balance: $\" + balance);\n",
    "    }\n",
    "}"
   ]
  },
  {
   "cell_type": "code",
   "execution_count": null,
   "id": "fdf3f1e9",
   "metadata": {
    "vscode": {
     "languageId": "c"
    }
   },
   "outputs": [],
   "source": [
    "=== BANK ACCOUNT MANAGER ===\n",
    "\n",
    "Starting balance: $5000\n",
    "\n",
    " Salary deposited: $8500\n",
    " Rent paid: $6700\n",
    " Groceries: $6250\n",
    " Interest applied: $6343\n",
    " Average spent: $750\n",
    " Tier check: 3\n",
    "\n",
    "=== FINAL SUMMARY ===\n",
    "Transactions: 3\n",
    "Final balance: $6343"
   ]
  },
  {
   "cell_type": "markdown",
   "id": "c61128a9",
   "metadata": {},
   "source": [
    "Popcorn Hack #1\n",
    "Original Code:"
   ]
  },
  {
   "cell_type": "code",
   "execution_count": null,
   "id": "21eb0d93",
   "metadata": {
    "vscode": {
     "languageId": "c"
    }
   },
   "outputs": [],
   "source": [
    "int playerScore = 1000;\n",
    "int playerHealth = 100;\n",
    "int enemiesDefeated = 0;\n",
    "\n",
    "// Player defeats an enemy worth 250 points\n",
    "playerScore = playerScore + 250;\n",
    "\n",
    "// Player takes 15 damage\n",
    "playerHealth = playerHealth - 15;\n",
    "\n",
    "// Enemy count goes up\n",
    "enemiesDefeated = enemiesDefeated + 1;\n",
    "\n",
    "// Boss battle: double the current score!\n",
    "playerScore = playerScore * 2;\n",
    "\n",
    "// Healing potion restores health to 80% of current\n",
    "playerHealth = playerHealth * 4;\n",
    "playerHealth = playerHealth / 5;"
   ]
  },
  {
   "cell_type": "markdown",
   "id": "157534fb",
   "metadata": {},
   "source": [
    "Transformed Code:"
   ]
  },
  {
   "cell_type": "code",
   "execution_count": null,
   "id": "830e7d1f",
   "metadata": {
    "vscode": {
     "languageId": "c"
    }
   },
   "outputs": [],
   "source": [
    "int playerScore = 1000;\n",
    "int playerHealth = 100;\n",
    "int enemiesDefeated = 0;\n",
    "\n",
    "// Player defeats an enemy worth 250 points\n",
    "playerScore += 250;\n",
    "\n",
    "// Player takes 15 damage\n",
    "playerHealth -= 15;\n",
    "\n",
    "// Enemy count goes up\n",
    "enemiesDefeated++;\n",
    "\n",
    "// Boss battle: double the current score!\n",
    "playerScore *= 2;\n",
    "\n",
    "// Healing potion restores health to 80% of current\n",
    "playerHealth *= 4;\n",
    "playerHealth /= 5;"
   ]
  },
  {
   "cell_type": "markdown",
   "id": "2a096585",
   "metadata": {},
   "source": [
    "Popcorn Hack #2"
   ]
  },
  {
   "cell_type": "code",
   "execution_count": null,
   "id": "04201fa2",
   "metadata": {
    "vscode": {
     "languageId": "java"
    }
   },
   "outputs": [],
   "source": [
    "public class ScoreTracker {\n",
    "    public static void main(String[] args) {\n",
    "        int score = 100;\n",
    "        \n",
    "        System.out.println(\"Starting score: \" + score);\n",
    "        \n",
    "        // Wrong answer penalty\n",
    "        score -= 25;\n",
    "        System.out.println(\"After wrong answer: \" + score);\n",
    "        \n",
    "        // Power-up doubles the score\n",
    "        score *= 2;\n",
    "        System.out.println(\"After power-up: \" + score);\n",
    "        \n",
    "        // Find remainder after dividing by 7\n",
    "        score %= 7;\n",
    "        System.out.println(\"After modulo 7: \" + score);\n",
    "    }\n",
    "}"
   ]
  },
  {
   "cell_type": "markdown",
   "id": "62e03dad",
   "metadata": {},
   "source": [
    "Output:"
   ]
  },
  {
   "cell_type": "markdown",
   "id": "27f133c4",
   "metadata": {},
   "source": [
    "Starting score: 100\n",
    "After wrong answer: 75\n",
    "After power-up: 150\n",
    "After modulo 7: 3"
   ]
  }
 ],
 "metadata": {
  "language_info": {
   "name": "python"
  }
 },
 "nbformat": 4,
 "nbformat_minor": 5
}
