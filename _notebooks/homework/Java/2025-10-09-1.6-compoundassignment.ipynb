{
 "cells": [
  {
   "cell_type": "markdown",
   "id": "83e3eab3",
   "metadata": {},
   "source": [
    "---\n",
    "layout: post\n",
    "title: \"Unit 1.6 - Compound Assignment Operators\"\n",
    "description: \"Java homework assignment covering compound assignment operators and their use cases\"\n",
    "type: homework\n",
    "courses: { csa: {week: 6} }\n",
    "categories: [homework]\n",
    "tags: [java, programming, homework, compound-assignment, operators, shortcuts]\n",
    "permalink: /csa/unit_01/1_6\n",
    "search_exclude: false\n",
    "---\n"
   ]
  },
  {
   "cell_type": "markdown",
   "id": "901758f5",
   "metadata": {},
   "source": [
    "Option B: Bank Account Manager\n",
    "I wanted to create a Bank Account Manager simulation that tracks financial transactions over a month."
   ]
  },
  {
   "cell_type": "code",
   "execution_count": null,
   "id": "f911abd9",
   "metadata": {
    "vscode": {
     "languageId": "java"
    }
   },
   "outputs": [],
   "source": [
    "public class BankAccountManager {\n",
    "    public static void main(String[] args) {\n",
    "        int balance = 5000;\n",
    "        int transactions = 0;\n",
    "        \n",
    "        System.out.println(\"Starting balance: $\" + balance);\n",
    "        \n",
    "        // Salary deposit.\n",
    "        balance += 3500;\n",
    "        transactions++;\n",
    "        System.out.println(\"After salary: $\" + balance);\n",
    "\n",
    "        // Rent paying.\n",
    "        balance -= 1800;\n",
    "        System.out.println(\"After rent: $\" + balance);\n",
    "        \n",
    "        // Apply interest\n",
    "        balance *= 1.02;\n",
    "        System.out.println(\"After interest: $\" + balance);\n",
    "\n",
    "        // This is the average per transaction\n",
    "        int avg = balance / transactions;\n",
    "        System.out.println(\"Average: $\" + avg);\n",
    "        \n",
    "        // Tier checking.\n",
    "        System.out.println(\"Tier: \" + (balance % 5));\n",
    "    }\n",
    "}"
   ]
  },
  {
   "cell_type": "code",
   "execution_count": null,
   "id": "fdf3f1e9",
   "metadata": {
    "vscode": {
     "languageId": "c"
    }
   },
   "outputs": [],
   "source": [
    "Starting balance: $5000\n",
    "After salary: $8500\n",
    "After rent: $6700\n",
    "After interest: $6834\n",
    "Average: $6834\n",
    "Tier: 4"
   ]
  }
 ],
 "metadata": {
  "language_info": {
   "name": "python"
  }
 },
 "nbformat": 4,
 "nbformat_minor": 5
}
