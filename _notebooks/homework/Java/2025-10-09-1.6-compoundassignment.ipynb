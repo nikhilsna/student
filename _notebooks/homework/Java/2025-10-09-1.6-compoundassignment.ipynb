{
 "cells": [
  {
   "cell_type": "markdown",
   "id": "83e3eab3",
   "metadata": {},
   "source": [
    "---\n",
    "layout: post\n",
    "title: \"Unit 1.6 - Compound Assignment Operators\"\n",
    "description: \"Java homework assignment covering compound assignment operators and their use cases\"\n",
    "type: homework\n",
    "author: Nikhil\n",
    "courses: { csa: {week: 6} }\n",
    "categories: [homework]\n",
    "tags: [java, programming, homework, compound-assignment, operators, shortcuts]\n",
    "permalink: /csa/unit_01/1_6\n",
    "search_exclude: false\n",
    "---\n"
   ]
  },
  {
   "cell_type": "markdown",
   "id": "901758f5",
   "metadata": {},
   "source": [
    "Option B: Bank Account Manager\n",
    "I wanted to create a Bank Account Manager simulation that tracks financial transactions over a month."
   ]
  },
  {
   "cell_type": "code",
   "execution_count": null,
   "id": "f911abd9",
   "metadata": {
    "vscode": {
     "languageId": "java"
    }
   },
   "outputs": [],
   "source": [
    "public class BankAccountManager {\n",
    "    public static void main(String[] args) {\n",
    "        // Initial account setup\n",
    "        int balance = 5000;\n",
    "        int transactions = 0;\n",
    "        \n",
    "        System.out.println(\"=== BANK ACCOUNT MANAGER ===\\n\");\n",
    "        System.out.println(\"Starting balance: $\" + balance + \"\\n\");\n",
    "        \n",
    "        // Salary deposit\n",
    "        balance += 3500;\n",
    "        transactions++;\n",
    "        System.out.println(\"Salary deposited: $\" + balance);\n",
    "        \n",
    "        // Rent payment\n",
    "        balance -= 1800;\n",
    "        transactions++;\n",
    "        System.out.println(\"Rent paid: $\" + balance);\n",
    "        \n",
    "        // Groceries\n",
    "        balance -= 450;\n",
    "        transactions++;\n",
    "        System.out.println(\"Groceries: $\" + balance);\n",
    "        \n",
    "        // Apply 1.5% interest (multiply by 1.015)\n",
    "        balance *= 1.015;\n",
    "        System.out.println(\"Interest applied: $\" + balance);\n",
    "        \n",
    "        // Calculate average spent per transaction\n",
    "        int totalSpent = 1800 + 450;\n",
    "        int avgSpent = totalSpent / transactions;\n",
    "        System.out.println(\"Average spent: $\" + avgSpent);\n",
    "        \n",
    "        // Check account tier eligibility\n",
    "        int tier = balance % 5;\n",
    "        System.out.println(\"Tier check: \" + tier);\n",
    "        \n",
    "        System.out.println(\"\\n=== FINAL SUMMARY ===\");\n",
    "        System.out.println(\"Transactions: \" + transactions);\n",
    "        System.out.println(\"Final balance: $\" + balance);\n",
    "    }\n",
    "}"
   ]
  },
  {
   "cell_type": "code",
   "execution_count": null,
   "id": "fdf3f1e9",
   "metadata": {
    "vscode": {
     "languageId": "c"
    }
   },
   "outputs": [],
   "source": [
    "=== BANK ACCOUNT MANAGER ===\n",
    "\n",
    "Starting balance: $5000\n",
    "\n",
    " Salary deposited: $8500\n",
    " Rent paid: $6700\n",
    " Groceries: $6250\n",
    " Interest applied: $6343\n",
    " Average spent: $750\n",
    " Tier check: 3\n",
    "\n",
    "=== FINAL SUMMARY ===\n",
    "Transactions: 3\n",
    "Final balance: $6343"
   ]
  }
 ],
 "metadata": {
  "language_info": {
   "name": "python"
  }
 },
 "nbformat": 4,
 "nbformat_minor": 5
}
