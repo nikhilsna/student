{
 "cells": [
  {
   "cell_type": "markdown",
   "id": "9f382e84",
   "metadata": {},
   "source": [
    "---\n",
    "layout: post\n",
    "title: \"Unit 1.9 - Method Overloading\"\n",
    "description: \"Java homework assignment covering method overloading, parameter types, and method signatures\"\n",
    "author: Nikhil\n",
    "type: homework\n",
    "courses: { csa: {week: 9} }\n",
    "categories: [homework]\n",
    "tags: [java, programming, homework, method-overloading, parameters, signatures, polymorphism]\n",
    "permalink: /csa/unit_01/1_9\n",
    "search_exclude: false\n",
    "---"
   ]
  },
  {
   "cell_type": "code",
   "execution_count": null,
   "id": "e3ec7346",
   "metadata": {
    "vscode": {
     "languageId": "java"
    }
   },
   "outputs": [],
   "source": [
    "// Popcorn hack 1, max overloads\n",
    "public class PopcornMax {\n",
    "    \n",
    "    public static int max(int a, int b) {\n",
    "        return a >= b ? a : b;\n",
    "    }\n",
    "\n",
    "    \n",
    "    public static double max(double a, double b) {\n",
    "        return a >= b ? a : b;\n",
    "    }\n",
    "\n",
    "    public static void main(String[] args) {\n",
    "        System.out.println(max(3, 9));      \n",
    "        System.out.println(max(-2, -7));    \n",
    "        System.out.println(max(3.5, 2.9));  \n",
    "        System.out.println(max(2, 2.0));    \n",
    "    }\n",
    "}"
   ]
  },
  {
   "cell_type": "markdown",
   "id": "3171d070",
   "metadata": {},
   "source": [
    "**Expected Output:**\n",
    "```\n",
    "9\n",
    "-2\n",
    "3.5\n",
    "2.0\n",
    "```"
   ]
  },
  {
   "cell_type": "code",
   "execution_count": null,
   "id": "33e68f23",
   "metadata": {
    "vscode": {
     "languageId": "java"
    }
   },
   "outputs": [],
   "source": [
    "// Popcorn hack2, overload print for int and String \n",
    "public class PopcornPrint {\n",
    "    static void print(int n) {\n",
    "        System.out.println(\"int:\" + n);\n",
    "    }\n",
    "\n",
    "    static void print(String s) {\n",
    "        System.out.println(\"str:\" + s);\n",
    "    }\n",
    "\n",
    "    public static void main(String[] args) {\n",
    "        print(42);          \n",
    "        print(\"hello\");     \n",
    "        print('A' + \"!\");   \n",
    "    }\n",
    "}\n",
    "\n"
   ]
  },
  {
   "cell_type": "markdown",
   "id": "07969dfe",
   "metadata": {},
   "source": [
    "**Expected Output:**\n",
    "```\n",
    "int:42\n",
    "str:hello\n",
    "str:A!\n",
    "```"
   ]
  },
  {
   "cell_type": "code",
   "execution_count": null,
   "id": "3e921b38",
   "metadata": {
    "vscode": {
     "languageId": "java"
    }
   },
   "outputs": [],
   "source": [
    "// CT1, abs overloads \n",
    "public class AbsOverloads {\n",
    "    public static int abs(int x) {\n",
    "        return x < 0 ? -x : x;\n",
    "    }\n",
    "\n",
    "    public static long abs(long x) {\n",
    "        return x < 0 ? -x : x;\n",
    "    }\n",
    "\n",
    "    public static double abs(double x) {\n",
    "        return x < 0.0 ? -x : x;\n",
    "    }\n",
    "\n",
    "    public static void main(String[] args) {\n",
    "        System.out.println(abs(-7));        \n",
    "        System.out.println(abs(-7L));\n",
    "        System.out.println(abs(-7.5));      \n",
    "    }\n",
    "}"
   ]
  },
  {
   "cell_type": "markdown",
   "id": "42e3b113",
   "metadata": {},
   "source": [
    "**Expected Output:**\n",
    "```\n",
    "7\n",
    "7\n",
    "7.5\n",
    "```"
   ]
  },
  {
   "cell_type": "code",
   "execution_count": null,
   "id": "5fb36c52",
   "metadata": {
    "vscode": {
     "languageId": "java"
    }
   },
   "outputs": [],
   "source": [
    "// CT2, concat overloads\n",
    "public class ConcatOverloads {\n",
    "    public static String concat(String a, String b) {\n",
    "        return a + b;\n",
    "    }\n",
    "\n",
    "    public static String concat(String a, int n) {\n",
    "        if (n <= 0) return \"\";\n",
    "        StringBuilder sb = new StringBuilder(a.length() * n);\n",
    "        for (int i = 0; i < n; i++) sb.append(a);\n",
    "        return sb.toString();\n",
    "    }\n",
    "\n",
    "    public static void main(String[] args) {\n",
    "        System.out.println(concat(\"cs\", \"a\"));    \n",
    "        System.out.println(concat(\"ha\", 3));      \n",
    "        System.out.println(concat(\"x\", 0));       \n",
    "    }\n",
    "}"
   ]
  },
  {
   "cell_type": "markdown",
   "id": "bc8747c1",
   "metadata": {},
   "source": [
    "**Expected Output:**\n",
    "```\n",
    "csa\n",
    "hahaha\n",
    "\n",
    "```"
   ]
  },
  {
   "cell_type": "code",
   "execution_count": null,
   "id": "69a5721e",
   "metadata": {
    "vscode": {
     "languageId": "java"
    }
   },
   "outputs": [],
   "source": [
    "// CT3, show method outputs \n",
    "static void show(int x) { System.out.println(\"int\"); }\n",
    "static void show(double x) { System.out.println(\"double\"); }\n",
    "static void show(long x) { System.out.println(\"long\"); }\n",
    "\n",
    "show(7);   \n",
    "show(7L);  \n",
    "show(7.0); \n"
   ]
  },
  {
   "cell_type": "markdown",
   "id": "f4298147",
   "metadata": {},
   "source": [
    "**Expected Output:**\n",
    "```\n",
    "int\n",
    "long\n",
    "double\n",
    "```"
   ]
  },
  {
   "cell_type": "code",
   "execution_count": null,
   "id": "2a8c8e12",
   "metadata": {
    "vscode": {
     "languageId": "java"
    }
   },
   "outputs": [],
   "source": [
    "//FRQ 1, indexOf overloads (char and String) \n",
    "public class MyIndexOf {\n",
    "    public static int indexOf(char target, String s) {\n",
    "        for (int i = 0; i < s.length(); i++) {\n",
    "            if (s.charAt(i) == target) return i;\n",
    "        }\n",
    "        return -1;\n",
    "    }\n",
    "\n",
    "    public static int indexOf(String target, String s) {\n",
    "        int n = s.length();\n",
    "        int m = target.length();\n",
    "        if (m == 0) return 0;\n",
    "        if (m > n) return -1;\n",
    "\n",
    "        for (int start = 0; start <= n - m; start++) {\n",
    "            int j = 0;\n",
    "            while (j < m && s.charAt(start + j) == target.charAt(j)) j++;\n",
    "            if (j == m) return start;\n",
    "        }\n",
    "        return -1;\n",
    "    }\n",
    "\n",
    "    public static void main(String[] args) {\n",
    "        System.out.println(indexOf('a', \"banana\"));       \n",
    "        System.out.println(indexOf(\"ana\", \"banana\"));      \n",
    "        System.out.println(indexOf(\"xyz\", \"banana\"));      \n",
    "        System.out.println(indexOf(\"\", \"banana\"));         \n",
    "    }\n",
    "}"
   ]
  },
  {
   "cell_type": "markdown",
   "id": "9f5f9a1c",
   "metadata": {
    "vscode": {
     "languageId": "java"
    }
   },
   "source": [
    "**Expected Output:**\n",
    "```\n",
    "1\n",
    "1\n",
    "-1\n",
    "0\n",
    "```"
   ]
  },
  {
   "cell_type": "code",
   "execution_count": null,
   "id": "ff8aae85",
   "metadata": {
    "vscode": {
     "languageId": "java"
    }
   },
   "outputs": [],
   "source": [
    "// FRQ 2, clamp overloads for int and double\n",
    "public class Clamp {\n",
    "    public static int clamp(int value, int low, int high) {\n",
    "        if (low > high) { int tmp = low; low = high; high = tmp; }\n",
    "        if (value < low) return low;\n",
    "        if (value > high) return high;\n",
    "        return value;\n",
    "    }\n",
    "\n",
    "    public static double clamp(double value, double low, double high) {\n",
    "        if (low > high) { double tmp = low; low = high; high = tmp; }\n",
    "        if (value < low) return low;\n",
    "        if (value > high) return high;\n",
    "        return value;\n",
    "    }\n",
    "\n",
    "    public static void main(String[] args) {\n",
    "        System.out.println(clamp(5, 0, 10));        \n",
    "        System.out.println(clamp(-3, 0, 10));       \n",
    "        System.out.println(clamp(12, 0, 10));       \n",
    "        System.out.println(clamp(5.5, 7.0, 2.0));   \n",
    "    }\n",
    "}"
   ]
  },
  {
   "cell_type": "markdown",
   "id": "d54fead0",
   "metadata": {},
   "source": [
    "**Expected Output:**\n",
    "```\n",
    "5\n",
    "0\n",
    "10\n",
    "5.5\n",
    "```"
   ]
  }
 ],
 "metadata": {
  "language_info": {
   "name": "python"
  }
 },
 "nbformat": 4,
 "nbformat_minor": 5
}
