{
 "cells": [
  {
   "cell_type": "markdown",
   "id": "7e874515",
   "metadata": {},
   "source": [
    "---\n",
    "layout: post\n",
    "title: \"Unit 1.12 - Using Objects\"\n",
    "description: \"Java homework assignment covering classes, objects, reference variables, and object-oriented programming concepts\"\n",
    "author: Nikhil\n",
    "type: homework\n",
    "courses: { csa: {week: 10} }\n",
    "categories: [homework]\n",
    "tags: [java, programming, homework, objects, classes, reference-variables, oop, instantiation]\n",
    "permalink: /csa/unit_01/1_12\n",
    "search_exclude: false\n",
    "---"
   ]
  },
  {
   "cell_type": "markdown",
   "id": "90816eb9",
   "metadata": {},
   "source": [
    "## Popcorn hack 1\n",
    "---"
   ]
  },
  {
   "cell_type": "code",
   "execution_count": null,
   "id": "2c5793dd",
   "metadata": {
    "vscode": {
     "languageId": "java"
    }
   },
   "outputs": [],
   "source": [
    "class Book {\n",
    "    String title;\n",
    "    int pages;\n",
    "    \n",
    "    void printInfo() {\n",
    "        System.out.println(\"Title: \" + title + \", Pages: \" + pages);\n",
    "    }\n",
    "}\n",
    "\n",
    "class MainPopcorn {\n",
    "    public static void main(String[] args) {\n",
    "        Book myBook = new Book();\n",
    "        myBook.title = \"Harry Potter\";\n",
    "        myBook.pages = 309;\n",
    "        myBook.printInfo();\n",
    "    }\n",
    "}"
   ]
  },
  {
   "cell_type": "markdown",
   "id": "afe3b04c",
   "metadata": {},
   "source": [
    "**Output:**\n",
    "```\n",
    "Title: Harry Potter, Pages: 309\n",
    "---"
   ]
  },
  {
   "cell_type": "markdown",
   "id": "5632ea9d",
   "metadata": {},
   "source": [
    "Quick Self-Check Answers\n",
    "<h1> 1. In one sentence, explain class vs. object.\n",
    "A class is a blueprint or template that defines the structure and behavior of objects, while an object is an instance of a class\n",
    "<h1> 2. What does a reference variable store?\n",
    "A reference variable stores the memory address of an object but it doesn't store the actual object\n",
    "<h1> 3. Name one method every object has because it extends Object.\n",
    "Every object has the toString() method or equals() or getClass() inherited from the Object class."
   ]
  },
  {
   "cell_type": "markdown",
   "id": "9c4d1f48",
   "metadata": {},
   "source": [
    "## Homework\n",
    "---"
   ]
  },
  {
   "cell_type": "code",
   "execution_count": null,
   "id": "285e7bbe",
   "metadata": {
    "vscode": {
     "languageId": "java"
    }
   },
   "outputs": [],
   "source": [
    "\n",
    "\n",
    "public class Student {\n",
    "\n",
    "    String name;\n",
    "    int grade;\n",
    "    int pets;\n",
    "    int siblings;\n",
    "\n",
    "    public Student(String name, int grade, int pets, int siblings) {\n",
    "        this.name = name;\n",
    "        this.grade = grade;\n",
    "        this.pets = pets;\n",
    "        this.siblings = siblings;\n",
    "    }\n",
    "    public void printInfo() {\n",
    "        System.out.println(\"Name: \" + name);\n",
    "        System.out.println(\"Grade: \" + grade);\n",
    "        System.out.println(\"Pets: \" + pets);\n",
    "        System.out.println(\"Siblings: \" + siblings);\n",
    "        System.out.println();\n",
    "    }\n",
    "\n",
    "\n",
    "    public static void main(String[] args) {\n",
    "\n",
    "        Student s1 = new Student(\"Ethan\", 10, 2, 1);\n",
    "        Student s2 = new Student(\"Sophia\", 11, 1, 3);\n",
    "        Student s3 = new Student(\"Liam\", 12, 0, 2);\n",
    "\n",
    "        s1.printInfo();\n",
    "        s2.printInfo();\n",
    "        s3.printInfo();\n",
    "        Student nickname = s2;  \n",
    "\n",
    "        System.out.println(\"Nickname reference details:\");\n",
    "        nickname.printInfo();\n",
    "\n",
    "        nickname.name = \"Sophie\";\n",
    "\n",
    "        System.out.println(\"After changing nickname:\");\n",
    "        s2.printInfo();\n",
    "    }\n",
    "}"
   ]
  }
 ],
 "metadata": {
  "language_info": {
   "name": "python"
  }
 },
 "nbformat": 4,
 "nbformat_minor": 5
}
