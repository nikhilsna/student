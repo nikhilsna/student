{
 "cells": [
  {
   "cell_type": "markdown",
   "id": "5dd63ced",
   "metadata": {},
   "source": []
  },
  {
   "cell_type": "markdown",
   "id": "f9d29780",
   "metadata": {},
   "source": [
    "## Popcorn Hack #1"
   ]
  },
  {
   "cell_type": "code",
   "execution_count": null,
   "id": "04c4f486",
   "metadata": {
    "vscode": {
     "languageId": "java"
    }
   },
   "outputs": [],
   "source": [
    "public class Dog {\n",
    "    \n",
    "private String name;\n",
    "    private String breed;\n",
    "\n",
    "\n",
    "    public Dog(String name, String breed) {\n",
    "        this.name = name;\n",
    "        this.breed = breed;\n",
    "    }\n",
    "\n",
    "\n",
    "    public void printInfo() {\n",
    "        System.out.println(\"the dawg\" + name + \" is a \" + breed + \".\");\n",
    "    }\n",
    "}\n",
    "\n",
    "public class Main {\n",
    "    public static void main(String[] args) {\n",
    "        Dog myDog = new Dog(\"Buddy\", \"Golden Retriever\");\n",
    "       myDog.printInfo();\n",
    "    }\n",
    "}"
   ]
  }
 ],
 "metadata": {
  "language_info": {
   "name": "python"
  }
 },
 "nbformat": 4,
 "nbformat_minor": 5
}
