{
 "cells": [
  {
   "cell_type": "markdown",
   "id": "2c86cf0a",
   "metadata": {},
   "source": [
    "---\n",
    "layout: post\n",
    "title: \"Unit 1.7 - Hacks (Answers)\"\n",
    "description: \"Java homework assignment covering documentation usage, attributes, behaviors, and object-oriented programming concepts\"\n",
    "author: Nikhil\n",
    "type: homework\n",
    "courses: { csa: {week: 7} }\n",
    "categories: [homework]\n",
    "tags: [java, programming, homework, documentation, attributes, behaviors, oop, arraylist, math]\n",
    "permalink: /csa/unit_01/1_7\n",
    "search_exclude: false\n",
    "---"
   ]
  },
  {
   "cell_type": "markdown",
   "id": "4e0169e2",
   "metadata": {},
   "source": [
    "# Unit 1.7 – Hacks (Answers)\n",
    "\n",
    "## Popcorn Hack #1: Using Documentation\n",
    "\n",
    "```java\n",
    "import java.util.ArrayList;\n",
    "\n",
    "public class PopcornHack1 {\n",
    "    public static void main(String[] args) {\n",
    "        // 1) 3^4 using Math.pow\n",
    "        double threePowFour = Math.pow(3, 4);\n",
    "        System.out.println(\"3^4 = \" + threePowFour);\n",
    "\n",
    "        // 2) sqrt(64) using Math.sqrt\n",
    "        double sqrt64 = Math.sqrt(64);\n",
    "        System.out.println(\"sqrt(64) = \" + sqrt64);\n",
    "\n",
    "        // 3) Create ArrayList of Strings\n",
    "        ArrayList<String> colors = new ArrayList<>();\n",
    "\n",
    "        // 4) Add 3 colors\n",
    "        colors.add(\"red\");\n",
    "        colors.add(\"blue\");\n",
    "        colors.add(\"green\");\n",
    "\n",
    "        // 5) Print the size\n",
    "        System.out.println(\"colors size = \" + colors.size());\n",
    "\n",
    "        // Optional: quick sanity print\n",
    "        System.out.println(\"colors = \" + colors);\n",
    "    }\n",
    "}"
   ]
  },
  {
   "cell_type": "markdown",
   "id": "d6252829",
   "metadata": {},
   "source": [
    "Popcorn Hack 2: Attributes and Behaviors"
   ]
  },
  {
   "cell_type": "markdown",
   "id": "c8e13eb1",
   "metadata": {
    "vscode": {
     "languageId": "java"
    }
   },
   "source": [
    "```java\n",
    "public class Book {\n",
    "    // Attributes\n",
    "    private String title;\n",
    "    private String author;\n",
    "    private int pages;\n",
    "\n",
    "    // Constructor\n",
    "    public Book(String title, String author, int pages) {\n",
    "        this.title = title;\n",
    "        this.author = author;\n",
    "        this.pages = pages;\n",
    "    }\n",
    "\n",
    "    // displayInfo(): print all book info\n",
    "    public void displayInfo() {\n",
    "        System.out.println(\"Title: \" + title);\n",
    "        System.out.println(\"Author: \" + author);\n",
    "        System.out.println(\"Pages: \" + pages);\n",
    "    }\n",
    "\n",
    "    // isLong(): return true if pages > 300\n",
    "    public boolean isLong() {\n",
    "        return pages > 300;\n",
    "    }\n",
    "\n",
    "    // Simple test runner\n",
    "    public static void main(String[] args) {\n",
    "        Book myBook = new Book(\"Java Basics\", \"John Doe\", 350);\n",
    "        myBook.displayInfo();\n",
    "        System.out.println(\"isLong = \" + myBook.isLong());\n",
    "    }\n",
    "}"
   ]
  },
  {
   "cell_type": "markdown",
   "id": "c35a5caa",
   "metadata": {},
   "source": [
    "Expected Output:\n",
    "\n",
    "3^4 = 81.0\n",
    "sqrt(64) = 8.0\n",
    "colors size = 3\n",
    "colors = [red, blue, green]"
   ]
  },
  {
   "cell_type": "markdown",
   "id": "6fe102cd",
   "metadata": {},
   "source": [
    "Expected Output:"
   ]
  },
  {
   "cell_type": "markdown",
   "id": "01c4ea49",
   "metadata": {
    "vscode": {
     "languageId": "java"
    }
   },
   "source": [
    "Title: Java Basics\n",
    "Author: John Doe\n",
    "Pages: 350\n",
    "isLong = true"
   ]
  }
 ],
 "metadata": {
  "language_info": {
   "name": "python"
  }
 },
 "nbformat": 4,
 "nbformat_minor": 5
}
