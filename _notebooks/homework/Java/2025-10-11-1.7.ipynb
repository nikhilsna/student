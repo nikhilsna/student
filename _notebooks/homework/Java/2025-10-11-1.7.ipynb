{
 "cells": [
  {
   "cell_type": "markdown",
   "id": "2c86cf0a",
   "metadata": {},
   "source": [
    "---\n",
    "layout: post\n",
    "title: \"Unit 1.7 - Hacks (Answers)\"\n",
    "description: \"Java homework assignment covering documentation usage, attributes, behaviors, and object-oriented programming concepts\"\n",
    "author: Nikhil\n",
    "type: homework\n",
    "courses: { csa: {week: 7} }\n",
    "categories: [homework]\n",
    "tags: [java, programming, homework, documentation, attributes, behaviors, oop, arraylist, math]\n",
    "permalink: /csa/unit_01/1_7\n",
    "search_exclude: false\n",
    "---"
   ]
  },
  {
   "cell_type": "markdown",
   "id": "a0140df9",
   "metadata": {},
   "source": [
    "# Unit 1.7 – Hacks (Answers)\n",
    "\n",
    "## Popcorn Hack #1: Using Documentation"
   ]
  },
  {
   "cell_type": "markdown",
   "id": "4e0169e2",
   "metadata": {},
   "source": [
    "```java\n",
    "import java.util.ArrayList;\n",
    "\n",
    "public class PopcornHack1 {\n",
    "    public static void main(String[] args) {\n",
    "        // 1) 3^4 using Math.pow\n",
    "        double threePowFour = Math.pow(3, 4);\n",
    "        System.out.println(\"3^4 = \" + threePowFour);\n",
    "\n",
    "        // 2) sqrt(64) using Math.sqrt\n",
    "        double sqrt64 = Math.sqrt(64);\n",
    "        System.out.println(\"sqrt(64) = \" + sqrt64);\n",
    "\n",
    "        // 3) Create ArrayList of Strings\n",
    "        ArrayList<String> colors = new ArrayList<>();\n",
    "\n",
    "        // 4) Add 3 colors\n",
    "        colors.add(\"red\");\n",
    "        colors.add(\"blue\");\n",
    "        colors.add(\"green\");\n",
    "\n",
    "        // 5) Print the size\n",
    "        System.out.println(\"colors size = \" + colors.size());\n",
    "\n",
    "        // Optional: quick sanity print\n",
    "        System.out.println(\"colors = \" + colors);\n",
    "    }\n",
    "}"
   ]
  },
  {
   "cell_type": "markdown",
   "id": "d6252829",
   "metadata": {},
   "source": [
    "Popcorn Hack 2: Attributes and Behaviors"
   ]
  },
  {
   "cell_type": "code",
   "execution_count": null,
   "id": "c8e13eb1",
   "metadata": {
    "vscode": {
     "languageId": "java"
    }
   },
   "outputs": [],
   "source": [
    "public class Book {\n",
    "    //Attributes\n",
    "    private String title;\n",
    "    private String author;\n",
    "    private int pages;\n",
    "\n",
    "    // Constructor\n",
    "    public Book(String title, String author, int pages) {\n",
    "        this.title = title;\n",
    "        this.author = author;\n",
    "        this.pages = pages;\n",
    "    }\n",
    "\n",
    "    // displayInfo(): print all book info\n",
    "    public void displayInfo() {\n",
    "        System.out.println(\"Title: \" + title);\n",
    "        System.out.println(\"Author: \" + author);\n",
    "        System.out.println(\"Pages: \" + pages);\n",
    "    }\n",
    "\n",
    "    // isLong(): return true if pages > 300\n",
    "    public boolean isLong() {\n",
    "        return pages > 300;\n",
    "    }\n",
    "\n",
    "    // Simple test runner\n",
    "    public static void main(String[] args) {\n",
    "        Book myBook = new Book(\"Java Basics\", \"John Doe\", 350);\n",
    "        myBook.displayInfo();\n",
    "        System.out.println(\"isLong = \" + myBook.isLong());\n",
    "    }\n",
    "}"
   ]
  },
  {
   "cell_type": "markdown",
   "id": "c35a5caa",
   "metadata": {},
   "source": [
    "Expected Output:\n",
    "\n",
    "3^4 = 81.0\n",
    "sqrt(64) = 8.0\n",
    "colors size = 3\n",
    "colors = [red, blue, green]"
   ]
  },
  {
   "cell_type": "markdown",
   "id": "6fe102cd",
   "metadata": {},
   "source": [
    "Expected Output:"
   ]
  },
  {
   "cell_type": "markdown",
   "id": "01c4ea49",
   "metadata": {
    "vscode": {
     "languageId": "java"
    }
   },
   "source": [
    "Title: Java Basics\n",
    "Author: John Doe\n",
    "Pages: 350\n",
    "isLong = true"
   ]
  },
  {
   "cell_type": "code",
   "execution_count": null,
   "id": "986a2951",
   "metadata": {
    "vscode": {
     "languageId": "java"
    }
   },
   "outputs": [],
   "source": [
    "// Phone.java\n",
    "import java.util.ArrayList;\n",
    "\n",
    "public class Phone {\n",
    "    // Attributes (4)\n",
    "    private String brand;\n",
    "    private String model;\n",
    "    private int batteryLevel;\n",
    "    private ArrayList<String> contacts;\n",
    "    \n",
    "    // Constructor - sets brand and model, initializes empty contacts list\n",
    "    public Phone(String brand, String model) {\n",
    "        this.brand = brand;\n",
    "        this.model = model;\n",
    "        this.batteryLevel = 100;\n",
    "        this.contacts = new ArrayList<String>();\n",
    "    }\n",
    "    \n",
    "    // displayInfo() - prints brand, model, and battery level\n",
    "    public void displayInfo() {\n",
    "        System.out.println(\"Brand: \" + brand);\n",
    "        System.out.println(\"Model: \" + model);\n",
    "        System.out.println(\"Battery Level: \" + batteryLevel + \"%\");\n",
    "    }\n",
    "    \n",
    "    // addContact(String name) - adds name to contacts list\n",
    "    public void addContact(String name) {\n",
    "        contacts.add(name);\n",
    "        System.out.println(\"Contact '\" + name + \"' added successfully!\");\n",
    "    }\n",
    "    \n",
    "    // showContacts() - prints all contacts\n",
    "    public void showContacts() {\n",
    "        System.out.println(\"\\nContacts List:\");\n",
    "        if (contacts.isEmpty()) {\n",
    "            System.out.println(\"No contacts available.\");\n",
    "        } else {\n",
    "            for (int i = 0; i < contacts.size(); i++) {\n",
    "                System.out.println((i + 1) + \". \" + contacts.get(i));\n",
    "            }\n",
    "        }\n",
    "    }\n",
    "    \n",
    "    // usePhone(int minutes) - decreases battery by minutes used\n",
    "    public void usePhone(int minutes) {\n",
    "        batteryLevel -= minutes;\n",
    "        if (batteryLevel < 0) {\n",
    "            batteryLevel = 0;\n",
    "        }\n",
    "        System.out.println(\"Used phone for \" + minutes + \" minutes. Battery remaining: \" + batteryLevel + \"%\");\n",
    "    }\n",
    "}\n",
    "\n",
    "// PhoneTest.java\n",
    "public class PhoneTest {\n",
    "    public static void main(String[] args) {\n",
    "        // Create 2 Phone objects\n",
    "        Phone phone1 = new Phone(\"Apple\", \"iPhone 15\");\n",
    "        Phone phone2 = new Phone(\"Samsung\", \"Galaxy S24\");\n",
    "        \n",
    "        System.out.println(\"=== PHONE 1 ===\");\n",
    "        // Add 3 contacts to phone1\n",
    "        phone1.addContact(\"Alice Johnson\");\n",
    "        phone1.addContact(\"Bob Smith\");\n",
    "        phone1.addContact(\"Charlie Brown\");\n",
    "        \n",
    "        // Use phone1 for some minutes\n",
    "        phone1.usePhone(25);\n",
    "        \n",
    "        // Display phone1 information\n",
    "        System.out.println(\"\\n--- Phone 1 Information ---\");\n",
    "        phone1.displayInfo();\n",
    "        phone1.showContacts();\n",
    "        \n",
    "        System.out.println(\"\\n\\n=== PHONE 2 ===\");\n",
    "        // Add 3 contacts to phone2\n",
    "        phone2.addContact(\"David Lee\");\n",
    "        phone2.addContact(\"Emma Watson\");\n",
    "        phone2.addContact(\"Frank Miller\");\n",
    "        \n",
    "        // Use phone2 for some minutes\n",
    "        phone2.usePhone(40);\n",
    "        \n",
    "        // Display phone2 information\n",
    "        System.out.println(\"\\n--- Phone 2 Information ---\");\n",
    "        phone2.displayInfo();\n",
    "        phone2.showContacts();\n",
    "    }\n",
    "}"
   ]
  },
  {
   "cell_type": "markdown",
   "id": "3477decd",
   "metadata": {},
   "source": [
    "### output"
   ]
  },
  {
   "cell_type": "markdown",
   "id": "f5abbb8a",
   "metadata": {
    "vscode": {
     "languageId": "java"
    }
   },
   "source": [
    "=== PHONE 1 ===\n",
    "Contact 'Alice Johnson' added successfully!\n",
    "Contact 'Bob Smith' added successfully!\n",
    "Contact 'Charlie Brown' added successfully!\n",
    "Used phone for 25 minutes. Battery remaining: 75%\n",
    "\n",
    "--- Phone 1 Information ---\n",
    "Brand: Apple\n",
    "Model: iPhone 15\n",
    "Battery Level: 75%\n",
    "\n",
    "Contacts List:\n",
    "1. Alice Johnson\n",
    "2. Bob Smith\n",
    "3. Charlie Brown\n",
    "\n",
    "\n",
    "=== PHONE 2 ===\n",
    "Contact 'David Lee' added successfully!\n",
    "Contact 'Emma Watson' added successfully!\n",
    "Contact 'Frank Miller' added successfully!\n",
    "Used phone for 40 minutes. Battery remaining: 60%\n",
    "\n",
    "--- Phone 2 Information ---\n",
    "Brand: Samsung\n",
    "Model: Galaxy S24\n",
    "Battery Level: 60%\n",
    "\n",
    "Contacts List:\n",
    "1. David Lee\n",
    "2. Emma Watson\n",
    "3. Frank Miller"
   ]
  }
 ],
 "metadata": {
  "language_info": {
   "name": "python"
  }
 },
 "nbformat": 4,
 "nbformat_minor": 5
}
