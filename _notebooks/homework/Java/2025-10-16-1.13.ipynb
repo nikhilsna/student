{
 "cells": [
  {
   "cell_type": "markdown",
   "id": "16015e0b",
   "metadata": {},
   "source": [
    "---\n",
    "layout: post\n",
    "title: \"Unit 1.13 - Creating References and Objects\"\n",
    "description: \"Java homework assignment covering object creation, constructor usage, and reference variables\"\n",
    "author: Nikhil\n",
    "type: homework\n",
    "courses: { csa: {week: 13} }\n",
    "categories: [homework]\n",
    "tags: [java, programming, homework, objects, constructors, references, new-operator, car-class]\n",
    "permalink: /csa/unit_01/1_13\n",
    "search_exclude: false\n",
    "---"
   ]
  },
  {
   "cell_type": "code",
   "execution_count": null,
   "id": "ae1377a8",
   "metadata": {
    "vscode": {
     "languageId": "java"
    }
   },
   "outputs": [],
   "source": [
    "// hw hack 1\n",
    "\n",
    "public class ObjectCreation {\n",
    "    public static void main(String[] args) {\n",
    "        // 1. Create two Car objects using 'new'\n",
    "        Car car1 = new Car(\"Tesla\", 2024);\n",
    "        Car car2 = new Car(\"Honda\", 2023);\n",
    "\n",
    "        // 2. Print each car's info\n",
    "        System.out.println(car1);\n",
    "        System.out.println(car2);\n",
    "    }\n",
    "}\n",
    "\n",
    "class Car {\n",
    "    // 1. Declare variables: brand, year\n",
    "    String brand;\n",
    "    int year;\n",
    "\n",
    "    // 2. Create a constructor to set those variables\n",
    "    public Car(String brand, int year) {\n",
    "        this.brand = brand;\n",
    "        this.year = year;\n",
    "    }\n",
    "\n",
    "    // 3. Add a method or toString() to display car info\n",
    "    @Override\n",
    "    public String toString() {\n",
    "        return \"Car: \" + brand + \", Year: \" + year;\n",
    "    }\n",
    "}\n",
    "```\n",
    "\n",
    "**Expected Output:**\n",
    "```\n",
    "Car: Tesla, Year: 2024\n",
    "Car: Honda, Year: 2023"
   ]
  }
 ],
 "metadata": {
  "language_info": {
   "name": "python"
  }
 },
 "nbformat": 4,
 "nbformat_minor": 5
}
