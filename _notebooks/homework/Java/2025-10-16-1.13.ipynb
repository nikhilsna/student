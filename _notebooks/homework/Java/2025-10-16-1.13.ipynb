{
 "cells": [
  {
   "cell_type": "markdown",
   "id": "16015e0b",
   "metadata": {},
   "source": [
    "---\n",
    "layout: post\n",
    "title: \"Unit 1.13 - Creating References and Objects\"\n",
    "description: \"Java homework assignment covering object creation, constructor usage, and reference variables\"\n",
    "author: Nikhil\n",
    "type: homework\n",
    "courses: { csa: {week: 13} }\n",
    "categories: [homework]\n",
    "tags: [java, programming, homework, objects, constructors, references, new-operator, car-class]\n",
    "permalink: /csa/unit_01/1_13\n",
    "search_exclude: false\n",
    "---"
   ]
  },
  {
   "cell_type": "code",
   "execution_count": null,
   "id": "ae1377a8",
   "metadata": {
    "vscode": {
     "languageId": "java"
    }
   },
   "outputs": [],
   "source": [
    "// hw hack 1\n",
    "\n",
    "public class ObjectCreation {\n",
    "    public static void main(String[] args) {\n",
    "        // 1. Create two Car objects using 'new'\n",
    "        Car car1 = new Car(\"Tesla\", 2024);\n",
    "        Car car2 = new Car(\"Honda\", 2023);\n",
    "\n",
    "        // 2. Print each car's info\n",
    "        System.out.println(car1);\n",
    "        System.out.println(car2);\n",
    "    }\n",
    "}\n",
    "\n",
    "class Car {\n",
    "    // 1. Declare variables: brand, year\n",
    "    String brand;\n",
    "    int year;\n",
    "\n",
    "    // 2. Create a constructor to set those variables\n",
    "    public Car(String brand, int year) {\n",
    "        this.brand = brand;\n",
    "        this.year = year;\n",
    "    }\n",
    "\n",
    "    // 3. Add a method or toString() to display car info\n",
    "    @Override\n",
    "    public String toString() {\n",
    "        return \"Car: \" + brand + \", Year: \" + year;\n",
    "    }\n",
    "}"
   ]
  },
  {
   "cell_type": "markdown",
   "id": "c05314ef",
   "metadata": {},
   "source": [
    "**Output:**\n",
    "```\n",
    "Car: Tesla, Year: 2024\n",
    "Car: Honda, Year: 2023\n",
    "\n",
    "---"
   ]
  },
  {
   "cell_type": "markdown",
   "id": "33177925",
   "metadata": {},
   "source": [
    "### Hw hack 2\n",
    "\n",
    "---"
   ]
  },
  {
   "cell_type": "code",
   "execution_count": null,
   "id": "0f44f7bd",
   "metadata": {
    "vscode": {
     "languageId": "java"
    }
   },
   "outputs": [],
   "source": [
    "\n",
    "\n",
    "public class HeapVsStack {\n",
    "    public static void main(String[] args) {\n",
    "        // 1. Create a primitive variable (int pages)\n",
    "        int pages = 300;\n",
    "        \n",
    "        // 2. Create another primitive variable that copies it\n",
    "        int pagesCopy = pages;\n",
    "        \n",
    "        // 3. Create a Book object (Book b1 = new Book(\"Java Basics\");)\n",
    "        Book b1 = new Book(\"Java Basics\");\n",
    "        \n",
    "        // 4. Create another Book reference (Book b2 = b1;)\n",
    "        Book b2 = b1;\n",
    "        \n",
    "        // 5. Change the original primitive and the Book title\n",
    "        pages = 400;\n",
    "        b1.title = \"Advanced Java\";\n",
    "        \n",
    "        // 6. Print both sets of values to compare behavior\n",
    "        System.out.println(\"=== Primitive Variables (Stack) ===\");\n",
    "        System.out.println(\"Original pages: \" + pages);\n",
    "        System.out.println(\"Copied pagesCopy: \" + pagesCopy);\n",
    "        System.out.println(\"Note: pagesCopy is INDEPENDENT\\n\");\n",
    "        \n",
    "        System.out.println(\"=== Object References (Heap) ===\");\n",
    "        System.out.println(\"Book b1: \" + b1);\n",
    "        System.out.println(\"Book b2: \" + b2);\n",
    "        System.out.println(\"Note: b2 points to SAME object as b1\");\n",
    "    }\n",
    "}\n",
    "\n",
    "class Book {\n",
    "    // 1. Declare variable: String title\n",
    "    String title;\n",
    "    \n",
    "    // 2. Create a constructor to set the title\n",
    "    public Book(String title) {\n",
    "        this.title = title;\n",
    "    }\n",
    "    \n",
    "    // 3. Create a toString() to show the title\n",
    "    @Override\n",
    "    public String toString() {\n",
    "        return \"Book Title: \" + title;\n",
    "    }\n",
    "}\n"
   ]
  },
  {
   "cell_type": "markdown",
   "id": "75b5eff2",
   "metadata": {},
   "source": [
    "\n",
    "\n",
    "**Expected Output:**\n",
    "=== Primitive Variables (Stack) ===\n",
    "Original pages: 400\n",
    "Copied pagesCopy: 300\n",
    "Note: pagesCopy is INDEPENDENT\n",
    "\n",
    "=== Object References (Heap) ===\n",
    "Book b1: Book Title: Advanced Java\n",
    "Book b2: Book Title: Advanced Java\n",
    "Note: b2 points to SAME object as b1"
   ]
  },
  {
   "cell_type": "markdown",
   "id": "f606a571",
   "metadata": {},
   "source": [
    "### Ph1"
   ]
  },
  {
   "cell_type": "code",
   "execution_count": null,
   "id": "e03791c9",
   "metadata": {
    "vscode": {
     "languageId": "java"
    }
   },
   "outputs": [],
   "source": [
    "public class MemoryDemo {\n",
    "    public static void main(String[] args) {\n",
    "        // Stack variables\n",
    "        int a = 10;\n",
    "        int b = a;  // Copy of value\n",
    "        b = 20;     // Changing b doesn't affect a\n",
    "        \n",
    "        System.out.println(\"Primitives (Stack):\");\n",
    "        System.out.println(\"a = \" + a);  // Still 10\n",
    "        System.out.println(\"b = \" + b);  // Now it's 20\n",
    "        \n",
    "        // Heap variables\n",
    "        int[] array1 = {1, 2, 3};\n",
    "        int[] array2 = array1;  // Copy of reference (address)\n",
    "        array2[0] = 99;         // Changing array2 DOES affect array1\n",
    "        \n",
    "        System.out.println(\"\\nArrays (Heap):\");\n",
    "        System.out.println(\"array1[0] = \" + array1[0]);  // Now it's 99!\n",
    "        System.out.println(\"array2[0] = \" + array2[0]);  // Also 99\n",
    "    }\n",
    "}"
   ]
  },
  {
   "cell_type": "markdown",
   "id": "420fc106",
   "metadata": {},
   "source": [
    "### output"
   ]
  },
  {
   "cell_type": "markdown",
   "id": "19a6736a",
   "metadata": {},
   "source": [
    "Primitives (Stack):\n",
    "a = 10\n",
    "b = 20\n",
    "\n",
    "Arrays (Heap):\n",
    "array1[0] = 99\n",
    "array2[0] = 99"
   ]
  },
  {
   "cell_type": "markdown",
   "id": "7625db68",
   "metadata": {},
   "source": [
    "Question 1: Why does changing b not affect a, but changing array2 affects array1?\n",
    "Changing b does not affect a because primitives like int are stored on the stack and use pass-by-value. When we assign b = a, Java creates a complete copy of the value 10. So a and b are two separate variables with their own memory locations containing independent values. Changing one does not affect the other.\n",
    "However, changing array2 does affect array1 because arrays are objects stored on the heap. When we assign array2 = array1, we're not copying the actual array - we're copying the reference (memory address) that points to the array on the heap. Both array1 and array2 now point to the same array object in memory. So when we modify the array through array2[0] = 99, we're modifying the same underlying object that array1 also points to.\n",
    "Question 2: Describe what's on the stack vs. the heap for this code.\n",
    "On the Stack:\n",
    "\n",
    "a - primitive int with value 10\n",
    "b - primitive int with value 20\n",
    "array1 - reference variable containing the memory address of the array object\n",
    "array2 - reference variable containing the same memory address as array1\n",
    "\n",
    "On the Heap:\n",
    "\n",
    "The actual array object {99, 2, 3} (originally {1, 2, 3})\n",
    "This single array object is pointed to by both array1 and array2 references\n",
    "\n",
    "\n",
    "Popcorn Hack #2: Understanding Pass-by-Reference"
   ]
  },
  {
   "cell_type": "markdown",
   "id": "cb99e42e",
   "metadata": {
    "vscode": {
     "languageId": "java"
    }
   },
   "source": [
    "### Ph2"
   ]
  },
  {
   "cell_type": "code",
   "execution_count": null,
   "id": "794dfda6",
   "metadata": {
    "vscode": {
     "languageId": "java"
    }
   },
   "outputs": [],
   "source": [
    "public class PersonDemo {\n",
    "    static class Person {\n",
    "        String name;\n",
    "        int age;\n",
    "        \n",
    "        Person(String name, int age) {\n",
    "            this.name = name;\n",
    "            this.age = age;\n",
    "        }\n",
    "    }\n",
    "    \n",
    "    public static void haveBirthday(Person p) {\n",
    "        p.age = p.age + 1;  // Modifying object content\n",
    "        System.out.println(\"Inside method: \" + p.name + \" is now \" + p.age);\n",
    "    }\n",
    "    \n",
    "    public static void reassignPerson(Person p) {\n",
    "        p = new Person(\"New Person\", 99);  // Reassigning reference\n",
    "        System.out.println(\"Inside reassign: \" + p.name + \" is \" + p.age);\n",
    "    }\n",
    "    \n",
    "    public static void main(String[] args) {\n",
    "        Person john = new Person(\"John\", 20);\n",
    "        \n",
    "        System.out.println(\"Before birthday: \" + john.name + \" is \" + john.age);\n",
    "        haveBirthday(john);\n",
    "        System.out.println(\"After birthday: \" + john.name + \" is \" + john.age);\n",
    "        \n",
    "        System.out.println(\"\\nBefore reassign: \" + john.name + \" is \" + john.age);\n",
    "        reassignPerson(john);\n",
    "        System.out.println(\"After reassign: \" + john.name + \" is \" + john.age);\n",
    "    }\n",
    "}"
   ]
  },
  {
   "cell_type": "markdown",
   "id": "a5d4ba10",
   "metadata": {},
   "source": [
    "### output"
   ]
  },
  {
   "cell_type": "markdown",
   "id": "1354acf1",
   "metadata": {},
   "source": [
    "Before birthday: John is 20\n",
    "Inside method: John is now 21\n",
    "After birthday: John is 21\n",
    "\n",
    "Before reassign: John is 21\n",
    "Inside reassign: New Person is 99\n",
    "After reassign: John is 21"
   ]
  },
  {
   "cell_type": "markdown",
   "id": "f573e0a2",
   "metadata": {},
   "source": [
    "### questions:"
   ]
  },
  {
   "cell_type": "markdown",
   "id": "5272a0e2",
   "metadata": {},
   "source": [
    "Question 1: After haveBirthday(john) is called, what is John's age? Why?\n",
    "After haveBirthday(john) is called, John's age is 21.\n",
    "This happens because when we pass john to the method, Java copies the reference (the memory address pointing to the Person object on the heap). The parameter p in the method now points to the same Person object as john. When we execute p.age = p.age + 1, we're modifying the actual object's content on the heap that both john and p point to. Therefore, the change is reflected in the original john object after the method returns.\n",
    "Question 2: After reassignPerson(john) is called, what is John's name and age? Why?\n",
    "After reassignPerson(john) is called, John's name is still \"John\" and age is still 21 (unchanged from the previous method call).\n",
    "This happens because inside reassignPerson, when we write p = new Person(\"New Person\", 99), we're creating a completely new Person object on the heap and making the local parameter p point to this new object. However, this only changes where the local parameter p points - it does NOT change where the original john reference points. The original john reference in the main method still points to the original Person object on the heap. When the method ends, the local parameter p is removed from the stack, and the original john reference remains unchanged.\n",
    "Question 3: Explain the difference between modifying an object's contents vs. reassigning a reference.\n",
    "Modifying an object's contents:\n",
    "\n",
    "Changes the data inside the object on the heap\n",
    "Affects all references that point to that object\n",
    "Example: p.age = p.age + 1 changes the age field of the object\n",
    "The original reference still points to the same object, but the object's state has changed\n",
    "\n",
    "Reassigning a reference:\n",
    "\n",
    "Changes which object a reference variable points to\n",
    "Only affects the local reference variable, not the original\n",
    "Creates or points to a different object in memory\n",
    "Example: p = new Person(\"New Person\", 99) makes p point to a brand new object\n",
    "The original reference (like john in main) is unaffected and still points to the original object\n",
    "When the method ends, the reassigned reference is discarded and the original remains unchanged"
   ]
  }
 ],
 "metadata": {
  "language_info": {
   "name": "python"
  }
 },
 "nbformat": 4,
 "nbformat_minor": 5
}
