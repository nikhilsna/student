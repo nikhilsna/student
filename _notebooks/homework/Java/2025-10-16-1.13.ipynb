{
 "cells": [
  {
   "cell_type": "markdown",
   "id": "16015e0b",
   "metadata": {},
   "source": [
    "---\n",
    "layout: post\n",
    "title: \"Unit 1.13 - Creating References and Objects\"\n",
    "description: \"Java homework assignment covering object creation, constructor usage, and reference variables\"\n",
    "author: Nikhil\n",
    "type: homework\n",
    "courses: { csa: {week: 13} }\n",
    "categories: [homework]\n",
    "tags: [java, programming, homework, objects, constructors, references, new-operator, car-class]\n",
    "permalink: /csa/unit_01/1_13\n",
    "search_exclude: false\n",
    "---"
   ]
  },
  {
   "cell_type": "code",
   "execution_count": null,
   "id": "ae1377a8",
   "metadata": {
    "vscode": {
     "languageId": "java"
    }
   },
   "outputs": [],
   "source": [
    "// hw hack 1\n",
    "\n",
    "public class ObjectCreation {\n",
    "    public static void main(String[] args) {\n",
    "        // 1. Create two Car objects using 'new'\n",
    "        Car car1 = new Car(\"Tesla\", 2024);\n",
    "        Car car2 = new Car(\"Honda\", 2023);\n",
    "\n",
    "        // 2. Print each car's info\n",
    "        System.out.println(car1);\n",
    "        System.out.println(car2);\n",
    "    }\n",
    "}\n",
    "\n",
    "class Car {\n",
    "    // 1. Declare variables: brand, year\n",
    "    String brand;\n",
    "    int year;\n",
    "\n",
    "    // 2. Create a constructor to set those variables\n",
    "    public Car(String brand, int year) {\n",
    "        this.brand = brand;\n",
    "        this.year = year;\n",
    "    }\n",
    "\n",
    "    // 3. Add a method or toString() to display car info\n",
    "    @Override\n",
    "    public String toString() {\n",
    "        return \"Car: \" + brand + \", Year: \" + year;\n",
    "    }\n",
    "}"
   ]
  },
  {
   "cell_type": "markdown",
   "id": "c05314ef",
   "metadata": {},
   "source": [
    "**Output:**\n",
    "```\n",
    "Car: Tesla, Year: 2024\n",
    "Car: Honda, Year: 2023\n",
    "\n",
    "---"
   ]
  },
  {
   "cell_type": "markdown",
   "id": "33177925",
   "metadata": {},
   "source": [
    "### Hw hack 2\n",
    "\n",
    "---"
   ]
  },
  {
   "cell_type": "code",
   "execution_count": null,
   "id": "0f44f7bd",
   "metadata": {
    "vscode": {
     "languageId": "java"
    }
   },
   "outputs": [],
   "source": [
    "\n",
    "\n",
    "public class HeapVsStack {\n",
    "    public static void main(String[] args) {\n",
    "        // 1. Create a primitive variable (int pages)\n",
    "        int pages = 300;\n",
    "        \n",
    "        // 2. Create another primitive variable that copies it\n",
    "        int pagesCopy = pages;\n",
    "        \n",
    "        // 3. Create a Book object (Book b1 = new Book(\"Java Basics\");)\n",
    "        Book b1 = new Book(\"Java Basics\");\n",
    "        \n",
    "        // 4. Create another Book reference (Book b2 = b1;)\n",
    "        Book b2 = b1;\n",
    "        \n",
    "        // 5. Change the original primitive and the Book title\n",
    "        pages = 400;\n",
    "        b1.title = \"Advanced Java\";\n",
    "        \n",
    "        // 6. Print both sets of values to compare behavior\n",
    "        System.out.println(\"=== Primitive Variables (Stack) ===\");\n",
    "        System.out.println(\"Original pages: \" + pages);\n",
    "        System.out.println(\"Copied pagesCopy: \" + pagesCopy);\n",
    "        System.out.println(\"Note: pagesCopy is INDEPENDENT\\n\");\n",
    "        \n",
    "        System.out.println(\"=== Object References (Heap) ===\");\n",
    "        System.out.println(\"Book b1: \" + b1);\n",
    "        System.out.println(\"Book b2: \" + b2);\n",
    "        System.out.println(\"Note: b2 points to SAME object as b1\");\n",
    "    }\n",
    "}\n",
    "\n",
    "class Book {\n",
    "    // 1. Declare variable: String title\n",
    "    String title;\n",
    "    \n",
    "    // 2. Create a constructor to set the title\n",
    "    public Book(String title) {\n",
    "        this.title = title;\n",
    "    }\n",
    "    \n",
    "    // 3. Create a toString() to show the title\n",
    "    @Override\n",
    "    public String toString() {\n",
    "        return \"Book Title: \" + title;\n",
    "    }\n",
    "}\n"
   ]
  },
  {
   "cell_type": "markdown",
   "id": "75b5eff2",
   "metadata": {},
   "source": [
    "\n",
    "\n",
    "**Expected Output:**\n",
    "=== Primitive Variables (Stack) ===\n",
    "Original pages: 400\n",
    "Copied pagesCopy: 300\n",
    "Note: pagesCopy is INDEPENDENT\n",
    "\n",
    "=== Object References (Heap) ===\n",
    "Book b1: Book Title: Advanced Java\n",
    "Book b2: Book Title: Advanced Java\n",
    "Note: b2 points to SAME object as b1"
   ]
  }
 ],
 "metadata": {
  "language_info": {
   "name": "python"
  }
 },
 "nbformat": 4,
 "nbformat_minor": 5
}
