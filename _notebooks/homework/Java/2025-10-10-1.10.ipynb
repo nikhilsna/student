{
 "cells": [
  {
   "cell_type": "markdown",
   "id": "695e220a",
   "metadata": {},
   "source": [
    "---\n",
    "layout: post\n",
    "title: \"Unit 1.10 - Using Objects\"\n",
    "description: \"Java homework assignment covering object instantiation, method calls, and working with objects\"\n",
    "type: homework\n",
    "courses: { csa: {week: 10} }\n",
    "categories: [homework]\n",
    "tags: [java, programming, homework, objects, methods, instantiation, oop]\n",
    "permalink: /csa/unit_01/1_10\n",
    "search_exclude: false\n",
    "---"
   ]
  },
  {
   "cell_type": "markdown",
   "id": "b0a1b8fa",
   "metadata": {},
   "source": [
    "Popcorn Hack: Which is an instance method or static method\n",
    "Problem Analysis\n",
    "Looking at the code provided:\n"
   ]
  },
  {
   "cell_type": "code",
   "execution_count": null,
   "id": "0908b70e",
   "metadata": {
    "vscode": {
     "languageId": "java"
    }
   },
   "outputs": [],
   "source": [
    "class Bro {\n",
    "    String name;\n",
    "    static String catchphrase = \"Sup bro?\";\n",
    "\n",
    "    public Bro(String name) {\n",
    "        this.name = name;\n",
    "    }\n",
    "\n",
    "    public void sayHi() {\n",
    "        System.out.println(\"Hey, I'm \" + name);\n",
    "    }\n",
    "\n",
    "    public static void sayCatchphrase() {\n",
    "        System.out.println(catchphrase);\n",
    "    }\n",
    "\n",
    "    public static void main(String[] args) {\n",
    "        // Will this work?\n",
    "        sayCatchphrase();\n",
    "\n",
    "        // What about this one?\n",
    "        sayHi();\n",
    "\n",
    "        Bro alex = new Bro(\"Alex\");\n",
    "        alex.sayHi();\n",
    "        alex.sayCatchphrase();\n",
    "    }\n",
    "}"
   ]
  },
  {
   "cell_type": "markdown",
   "id": "97d18fde",
   "metadata": {},
   "source": [
    "Fixed Code"
   ]
  },
  {
   "cell_type": "code",
   "execution_count": null,
   "id": "1cdad2cf",
   "metadata": {
    "vscode": {
     "languageId": "java"
    }
   },
   "outputs": [],
   "source": [
    "class Bro {\n",
    "    String name;\n",
    "    static String catchphrase = \"Sup bro?\";\n",
    "\n",
    "    public Bro(String name) {\n",
    "        this.name = name;\n",
    "    }\n",
    "\n",
    "    // Instance method - needs an object to work\n",
    "    public void sayHi() {\n",
    "        System.out.println(\"Hey, I'm \" + name);\n",
    "    }\n",
    "\n",
    "    // Static method - belongs to the class\n",
    "    public static void sayCatchphrase() {\n",
    "        System.out.println(catchphrase);\n",
    "    }\n",
    "\n",
    "    public static void main(String[] args) {\n",
    "        //  WORKS: Static method calling another static method\n",
    "        sayCatchphrase();\n",
    "\n",
    "        //  FIXED: Create an object first, then call instance method\n",
    "        Bro defaultBro = new Bro(\"Anonymous\");\n",
    "        defaultBro.sayHi();\n",
    "\n",
    "        //  WORKS: Instance method called on an object\n",
    "        Bro alex = new Bro(\"Alex\");\n",
    "        alex.sayHi();\n",
    "        \n",
    "        //  IMPROVED: Use class name for static methods\n",
    "        Bro.sayCatchphrase();  // Better than alex.sayCatchphrase()\n",
    "    }\n",
    "}"
   ]
  },
  {
   "cell_type": "markdown",
   "id": "0f362283",
   "metadata": {},
   "source": [
    "Output:"
   ]
  },
  {
   "cell_type": "markdown",
   "id": "aeeb455c",
   "metadata": {
    "vscode": {
     "languageId": "java"
    }
   },
   "source": [
    "Sup bro?\n",
    "Sup, I"
   ]
  }
 ],
 "metadata": {
  "language_info": {
   "name": "python"
  }
 },
 "nbformat": 4,
 "nbformat_minor": 5
}
